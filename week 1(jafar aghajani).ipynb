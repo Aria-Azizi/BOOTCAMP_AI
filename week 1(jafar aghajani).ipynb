{
  "nbformat": 4,
  "nbformat_minor": 0,
  "metadata": {
    "colab": {
      "provenance": [],
      "authorship_tag": "ABX9TyP3v/Fy6Mmbrrb1FbL5qhlv",
      "include_colab_link": true
    },
    "kernelspec": {
      "name": "python3",
      "display_name": "Python 3"
    },
    "language_info": {
      "name": "python"
    }
  },
  "cells": [
    {
      "cell_type": "markdown",
      "metadata": {
        "id": "view-in-github",
        "colab_type": "text"
      },
      "source": [
        "<a href=\"https://colab.research.google.com/github/Hamed-Aghapanah/BOOTCAMP_AI/blob/main/week%201(jafar%20aghajani).ipynb\" target=\"_parent\"><img src=\"https://colab.research.google.com/assets/colab-badge.svg\" alt=\"Open In Colab\"/></a>"
      ]
    },
    {
      "cell_type": "code",
      "execution_count": 2,
      "metadata": {
        "colab": {
          "base_uri": "https://localhost:8080/"
        },
        "id": "-8KOGNC7ZSTF",
        "outputId": "3048c9bd-5ba5-4714-b759-f975e8303590"
      },
      "outputs": [
        {
          "output_type": "stream",
          "name": "stdout",
          "text": [
            "تعداد اعداد را وارد كنيد: 2\n",
            "وارد كردن عدد صحيح 1: 12\n",
            "وارد كردن عدد صحيح 2: 15\n",
            "بيشترين مقدار: 15.00\n",
            "كمترين مقدار: 12.00\n",
            "ميانگين اعداد: 13.50\n"
          ]
        }
      ],
      "source": [
        "# week 1 / Question 1\n",
        "# jafar aghajani\n",
        "def main():\n",
        "    try:\n",
        "        num_count = int(input(\"تعداد اعداد را وارد كنيد: \"))\n",
        "        if num_count <= 0:\n",
        "            print(\"لطفا فقط عدد صحيح وارد كنيد.\")\n",
        "            return\n",
        "\n",
        "        numbers = []\n",
        "        for i in range(num_count):\n",
        "            num = float(input(f\"وارد كردن عدد صحيح {i + 1}: \"))\n",
        "            numbers.append(num)\n",
        "\n",
        "        max_value = max(numbers)\n",
        "        min_value = min(numbers)\n",
        "        avg_value = sum(numbers) / num_count\n",
        "\n",
        "        print(f\"بيشترين مقدار: {max_value:.2f}\")\n",
        "        print(f\"كمترين مقدار: {min_value:.2f}\")\n",
        "        print(f\"ميانگين اعداد: {avg_value:.2f}\")\n",
        "\n",
        "    except ValueError:\n",
        "        print(\"مقدار وارد شده عدد صحيح نيست . لطفا فقط عدد صحيح وارد كنيد.\")\n",
        "\n",
        "if __name__ == \"__main__\":\n",
        "    main()"
      ]
    },
    {
      "cell_type": "code",
      "source": [
        "# week 1 / Question 2\n",
        "# jafar aghajani\n",
        "def main():\n",
        "    try:\n",
        "        num_list = []\n",
        "        for i in range(20):\n",
        "            num = int(input(f\"Enter integer {i + 1}: \"))\n",
        "            num_list.append(num)\n",
        "\n",
        "        even_count = sum(1 for num in num_list if num % 2 == 0)\n",
        "\n",
        "        print(f\"Number of even integers: {even_count}\")\n",
        "\n",
        "    except ValueError:\n",
        "        print(\"Invalid input. Please enter valid integers.\")\n",
        "\n",
        "if __name__ == \"__main__\":\n",
        "    main()6"
      ],
      "metadata": {
        "colab": {
          "base_uri": "https://localhost:8080/"
        },
        "id": "gBSCPcHkZlF8",
        "outputId": "e4d7c622-45ee-48ab-cb91-0346ec28b2c3"
      },
      "execution_count": 3,
      "outputs": [
        {
          "output_type": "stream",
          "name": "stdout",
          "text": [
            "Enter integer 1: 12\n",
            "Enter integer 2: 25\n",
            "Enter integer 3: 23\n",
            "Enter integer 4: 14\n",
            "Enter integer 5: 48\n",
            "Enter integer 6: 6\n",
            "Enter integer 7: 66\n",
            "Enter integer 8: 96\n",
            "Enter integer 9: 45\n",
            "Enter integer 10: 78\n",
            "Enter integer 11: 12\n",
            "Enter integer 12: 13\n",
            "Enter integer 13: 18\n",
            "Enter integer 14: 16\n",
            "Enter integer 15: 14\n",
            "Enter integer 16: 11\n",
            "Enter integer 17: 8\n",
            "Enter integer 18: 62\n",
            "Enter integer 19: 23\n",
            "Enter integer 20: 21\n",
            "Number of even integers: 13\n"
          ]
        }
      ]
    },
    {
      "cell_type": "code",
      "source": [
        "# week 1 / Question 3\n",
        "# jafar aghajani\n",
        "def factorial(n):\n",
        "    \"\"\"\n",
        "    Calculates the factorial of a non-negative integer n.\n",
        "    \"\"\"\n",
        "    if n == 0:\n",
        "        return 1\n",
        "    else:\n",
        "        result = 1\n",
        "        for i in range(1, n + 1):\n",
        "            result *= i\n",
        "        return result\n",
        "\n",
        "def main():\n",
        "    try:\n",
        "        for i in range(10):\n",
        "            num = int(input(f\"Enter integer {i + 1}: \"))\n",
        "            if num < 0:\n",
        "                print(\"Factorial is not defined for negative numbers.\")\n",
        "            else:\n",
        "                fact = factorial(num)\n",
        "                print(f\"Factorial of {num}: {fact} (calculated using iteration)\")\n",
        "\n",
        "    except ValueError:\n",
        "        print(\"Invalid input. Please enter valid integers.\")\n",
        "\n",
        "if __name__ == \"__main__\":\n",
        "    main()"
      ],
      "metadata": {
        "colab": {
          "base_uri": "https://localhost:8080/"
        },
        "id": "KFe-s9ZjZpXW",
        "outputId": "ce0bbefe-40cb-4f6c-e4af-eceeaf793d12"
      },
      "execution_count": 4,
      "outputs": [
        {
          "output_type": "stream",
          "name": "stdout",
          "text": [
            "Enter integer 1: 25\n",
            "Factorial of 25: 15511210043330985984000000 (calculated using iteration)\n",
            "Enter integer 2: 23\n",
            "Factorial of 23: 25852016738884976640000 (calculated using iteration)\n",
            "Enter integer 3: 45\n",
            "Factorial of 45: 119622220865480194561963161495657715064383733760000000000 (calculated using iteration)\n",
            "Enter integer 4: 63\n",
            "Factorial of 63: 1982608315404440064116146708361898137544773690227268628106279599612729753600000000000000 (calculated using iteration)\n",
            "Enter integer 5: 85\n",
            "Factorial of 85: 281710411438055027694947944226061159480056634330574206405101912752560026159795933451040286452340924018275123200000000000000000000 (calculated using iteration)\n",
            "Enter integer 6: 74\n",
            "Factorial of 74: 330788544151938641225953028221253782145683251820934971170611926835411235700971565459250872320000000000000000 (calculated using iteration)\n",
            "Enter integer 7: 12\n",
            "Factorial of 12: 479001600 (calculated using iteration)\n",
            "Enter integer 8: 10\n",
            "Factorial of 10: 3628800 (calculated using iteration)\n",
            "Enter integer 9: 8\n",
            "Factorial of 8: 40320 (calculated using iteration)\n",
            "Enter integer 10: 9\n",
            "Factorial of 9: 362880 (calculated using iteration)\n"
          ]
        }
      ]
    },
    {
      "cell_type": "code",
      "source": [
        "# week 1 / Question 4\n",
        "# jafar aghajani\n",
        "def celsius_to_fahrenheit(celsius):\n",
        "        return (celsius * 9/5) + 32\n",
        "def celsius_to_kelvin(celsius):\n",
        "        return celsius + 273.15\n",
        "def fahrenheit_to_celsius(fahrenheit):\n",
        "        return (fahrenheit - 32) * 5/9\n",
        "def fahrenheit_to_kelvin(fahrenheit):\n",
        "        return (fahrenheit + 459.67) * 5/9\n",
        "def kelvin_to_celsius(kelvin):\n",
        "       return kelvin - 273.15\n",
        "def kelvin_to_fahrenheit(kelvin):\n",
        "        return (kelvin * 9/5) - 459.67\n",
        "def main():\n",
        "    try:\n",
        "        temp_value = float(input(\"Enter the temperature value: \"))\n",
        "        input_unit = input(\"Enter the input unit (C, F, or K): \").lower()\n",
        "        output_unit = input(\"Enter the output unit (C, F, or K): \").lower()\n",
        "\n",
        "        if input_unit == \"c\":\n",
        "            if output_unit == \"f\":\n",
        "                result = celsius_to_fahrenheit(temp_value)\n",
        "            elif output_unit == \"k\":\n",
        "                result = celsius_to_kelvin(temp_value)\n",
        "            else:\n",
        "                print(\"Invalid output unit. Please enter C, F, or K.\")\n",
        "                return\n",
        "        elif input_unit == \"f\":\n",
        "            if output_unit == \"c\":\n",
        "                result = fahrenheit_to_celsius(temp_value)\n",
        "            elif output_unit == \"k\":\n",
        "                result = fahrenheit_to_kelvin(temp_value)\n",
        "            else:\n",
        "                print(\"Invalid output unit. Please enter C, F, or K.\")\n",
        "                return\n",
        "        elif input_unit == \"k\":\n",
        "            if output_unit == \"c\":\n",
        "                result = kelvin_to_celsius(temp_value)\n",
        "            elif output_unit == \"f\":\n",
        "                result = kelvin_to_fahrenheit(temp_value)\n",
        "            else:\n",
        "                print(\"Invalid output unit. Please enter C, F, or K.\")\n",
        "                return\n",
        "        else:\n",
        "            print(\"Invalid input unit. Please enter C, F, or K.\")\n",
        "            return\n",
        "\n",
        "        print(f\"Converted temperature: {result:.2f} {output_unit.upper()}\")\n",
        "\n",
        "    except ValueError:\n",
        "        print(\"Invalid input. Please enter a valid numeric temperature value.\")\n",
        "\n",
        "if __name__ == \"__main__\":\n",
        "    main()"
      ],
      "metadata": {
        "colab": {
          "base_uri": "https://localhost:8080/"
        },
        "id": "w6Ab9FlkaDDO",
        "outputId": "d97bab82-e2e1-4f0f-ec98-88908c16332f"
      },
      "execution_count": 5,
      "outputs": [
        {
          "output_type": "stream",
          "name": "stdout",
          "text": [
            "Enter the temperature value: 23\n",
            "Enter the input unit (C, F, or K): c\n",
            "Enter the output unit (C, F, or K): f\n",
            "Converted temperature: 73.40 F\n"
          ]
        }
      ]
    }
  ]
}